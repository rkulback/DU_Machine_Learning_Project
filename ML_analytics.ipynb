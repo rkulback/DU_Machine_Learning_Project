{
 "cells": [
  {
   "cell_type": "code",
   "execution_count": 18,
   "metadata": {},
   "outputs": [],
   "source": [
    "#this code creates and cleans the data and uploads it to a mySQL database;\n",
    "#import dependencies\n",
    "# Dependencies\n",
    "import pandas as pd\n",
    "from pandas import ExcelWriter\n",
    "from pandas import ExcelFile\n",
    "\n",
    "#models for predicting game outcomes;\n",
    "\n",
    "# Dependencies\n",
    "\n",
    "%matplotlib inline\n",
    "import matplotlib.pyplot as plt\n",
    "\n",
    "from scipy import stats\n",
    "\n",
    "import os"
   ]
  },
  {
   "cell_type": "code",
   "execution_count": 2,
   "metadata": {},
   "outputs": [],
   "source": [
    "# Store filepath in a variable\n",
    "file_one = \"machine_learning_data.csv\""
   ]
  },
  {
   "cell_type": "code",
   "execution_count": 3,
   "metadata": {},
   "outputs": [],
   "source": [
    "# Read our Data file with the pandas library\n",
    "# Not every CSV requires an encoding, but be aware this can come up\n",
    "master_df = pd.read_csv(file_one, encoding=\"ISO-8859-1\")"
   ]
  },
  {
   "cell_type": "code",
   "execution_count": 4,
   "metadata": {},
   "outputs": [
    {
     "data": {
      "text/plain": [
       "Index(['gameid', 'league', 'playerid', 'gamelength', 'team', 'teamkills',\n",
       "       'teamdeaths', 'a', 'fb', 'fbtime', 'teamdragkills', 'oppdragkills',\n",
       "       'elders', 'oppelders', 'herald', 'heraldtime', 'ft', 'fttime',\n",
       "       'firstmidouter', 'firsttothreetowers', 'teamtowerkills',\n",
       "       'opptowerkills', 'fbaron', 'fbarontime', 'teambaronkills',\n",
       "       'oppbaronkills', 'dmgtochamps', 'dmgtochampsperminute', 'wards', 'wpm',\n",
       "       'wardshare', 'wardkills', 'wcpm', 'visionwards', 'totalgold',\n",
       "       'minionkills', 'monsterkills', 'monsterkillsownjungle',\n",
       "       'monsterkillsenemyjungle', 'cspm', 'goldat10', 'oppgoldat10', 'gdat10',\n",
       "       'goldat15', 'oppgoldat15', 'gdat15', 'xpat10', 'oppxpat10', 'xpdat10',\n",
       "       'csat10', 'oppcsat10', 'csdat10', 'csat15', 'oppcsat15', 'csdat15',\n",
       "       'blue_result'],\n",
       "      dtype='object')"
      ]
     },
     "execution_count": 4,
     "metadata": {},
     "output_type": "execute_result"
    }
   ],
   "source": [
    "master_df.columns"
   ]
  },
  {
   "cell_type": "code",
   "execution_count": 5,
   "metadata": {},
   "outputs": [],
   "source": [
    "# GOTO do analytics on this data to figure out what is what; \n",
    "\n",
    "lec_df = master_df.loc[master_df['league'] == \"LEC\"]\n",
    "lck_df = master_df.loc[master_df['league'] == \"LCK\"]\n",
    "lcs_df = master_df.loc[master_df['league'] == \"LCS\"]\n",
    "lms_df = master_df.loc[master_df['league'] == \"LMS\"]\n",
    "nalcs_df = master_df.loc[master_df['league'] == \"NALCS\"]"
   ]
  },
  {
   "cell_type": "code",
   "execution_count": 6,
   "metadata": {},
   "outputs": [],
   "source": [
    "lec_games = len(lec_df)\n",
    "lck_games = len(lck_df)\n",
    "lcs_games = len(lcs_df)\n",
    "lms_games = len(lms_df)\n",
    "nalcs_games = len(nalcs_df)"
   ]
  },
  {
   "cell_type": "code",
   "execution_count": 7,
   "metadata": {},
   "outputs": [
    {
     "data": {
      "text/plain": [
       "3877"
      ]
     },
     "execution_count": 7,
     "metadata": {},
     "output_type": "execute_result"
    }
   ],
   "source": [
    "#count the number of blueside wins\n",
    "\n",
    "results = master_df.groupby(['blue_result']).count()\n",
    "\n",
    "blue_wins = results['gameid'][1]\n",
    "\n",
    "blue_losses = results['gameid'][0]\n",
    "\n",
    "total_matches = len(master_df)\n",
    "\n",
    "total_matches\n"
   ]
  },
  {
   "cell_type": "code",
   "execution_count": 8,
   "metadata": {},
   "outputs": [
    {
     "name": "stdout",
     "output_type": "stream",
     "text": [
      "the blue team wins 55.12% of the time\n"
     ]
    }
   ],
   "source": [
    "blue_win_overall = blue_wins / total_matches\n",
    "\n",
    "blue_win_percentage = blue_win_overall * 100\n",
    "\n",
    "blue_loss_percentage = blue_losses / total_matches\n",
    "\n",
    "print(f\"the blue team wins {blue_win_percentage:.2f}% of the time\")\n"
   ]
  },
  {
   "cell_type": "code",
   "execution_count": 9,
   "metadata": {},
   "outputs": [],
   "source": [
    "#plot a graph to show if gold is a good determinator of win\n",
    "\n",
    "total_games = master_df.groupby('team')['team'].count()\n",
    "\n",
    "total_wins = master_df.groupby('team')['blue_result'].apply(lambda x: x[x == 'blue win'].count())\n",
    "\n",
    "damage = master_df.groupby('team')['dmgtochamps'].sum()\n",
    "\n",
    "wards = master_df.groupby('team')['wards'].sum()\n",
    "\n",
    "total_gold = master_df.groupby('team')['totalgold'].sum()\n",
    "\n",
    "damage_per_game = damage / total_games\n",
    "\n",
    "wards_per_game = wards / total_games\n",
    "\n",
    "gold_per_game = total_gold / total_games\n",
    "\n",
    "win_percentage = (total_wins / total_games)*100"
   ]
  },
  {
   "cell_type": "code",
   "execution_count": 11,
   "metadata": {},
   "outputs": [],
   "source": [
    "#create a dataframe for this data\n",
    "\n",
    "win_percentage_df = pd.DataFrame(win_percentage)\n",
    "\n",
    "total_wards_df = pd.DataFrame(wards_per_game)\n",
    "\n",
    "total_damage_per_game = pd.DataFrame(damage_per_game)\n",
    "\n",
    "total_gold_per_game = pd.DataFrame(gold_per_game)\n",
    "\n",
    "total_games_df = pd.DataFrame(total_games)\n",
    "\n",
    "\n",
    "\n",
    "combined_1 = win_percentage_df.merge(total_damage_per_game, on='team')\n",
    "\n",
    "combined_2 = combined_1.merge(total_wards_df, on='team')\n",
    "\n",
    "combined_3 = combined_2.merge(total_gold_per_game, on='team')\n",
    "\n",
    "\n",
    "\n"
   ]
  },
  {
   "cell_type": "code",
   "execution_count": 12,
   "metadata": {},
   "outputs": [],
   "source": [
    "total_games_df.columns = ['team_name']\n",
    "\n",
    "combined_4 = combined_3.merge(total_games_df, on='team')"
   ]
  },
  {
   "cell_type": "code",
   "execution_count": 13,
   "metadata": {},
   "outputs": [],
   "source": [
    "combined_4.columns = ['win_percentage', 'damage_per_game', 'wards_per_game', 'gold_per_game', 'total_games']\n",
    "\n",
    "final_df = combined_4.loc[combined_4.total_games > 20]"
   ]
  },
  {
   "cell_type": "code",
   "execution_count": 14,
   "metadata": {},
   "outputs": [
    {
     "data": {
      "text/html": [
       "<div>\n",
       "<style scoped>\n",
       "    .dataframe tbody tr th:only-of-type {\n",
       "        vertical-align: middle;\n",
       "    }\n",
       "\n",
       "    .dataframe tbody tr th {\n",
       "        vertical-align: top;\n",
       "    }\n",
       "\n",
       "    .dataframe thead th {\n",
       "        text-align: right;\n",
       "    }\n",
       "</style>\n",
       "<table border=\"1\" class=\"dataframe\">\n",
       "  <thead>\n",
       "    <tr style=\"text-align: right;\">\n",
       "      <th></th>\n",
       "      <th>win_percentage</th>\n",
       "      <th>damage_per_game</th>\n",
       "      <th>wards_per_game</th>\n",
       "      <th>gold_per_game</th>\n",
       "      <th>total_games</th>\n",
       "    </tr>\n",
       "    <tr>\n",
       "      <th>team</th>\n",
       "      <th></th>\n",
       "      <th></th>\n",
       "      <th></th>\n",
       "      <th></th>\n",
       "      <th></th>\n",
       "    </tr>\n",
       "  </thead>\n",
       "  <tbody>\n",
       "    <tr>\n",
       "      <th>100 Thieves</th>\n",
       "      <td>60.000000</td>\n",
       "      <td>70963.000000</td>\n",
       "      <td>132.220000</td>\n",
       "      <td>68396.760000</td>\n",
       "      <td>50</td>\n",
       "    </tr>\n",
       "    <tr>\n",
       "      <th>AHQ e-Sports Club</th>\n",
       "      <td>53.571429</td>\n",
       "      <td>63364.071429</td>\n",
       "      <td>127.142857</td>\n",
       "      <td>62313.238095</td>\n",
       "      <td>84</td>\n",
       "    </tr>\n",
       "    <tr>\n",
       "      <th>Afreeca Freecs</th>\n",
       "      <td>59.595960</td>\n",
       "      <td>65178.949495</td>\n",
       "      <td>157.616162</td>\n",
       "      <td>66973.191919</td>\n",
       "      <td>99</td>\n",
       "    </tr>\n",
       "    <tr>\n",
       "      <th>Alpha Esports</th>\n",
       "      <td>42.857143</td>\n",
       "      <td>55373.952381</td>\n",
       "      <td>107.000000</td>\n",
       "      <td>55005.952381</td>\n",
       "      <td>21</td>\n",
       "    </tr>\n",
       "    <tr>\n",
       "      <th>BBQ Olivers</th>\n",
       "      <td>39.655172</td>\n",
       "      <td>63566.172414</td>\n",
       "      <td>158.034483</td>\n",
       "      <td>66391.120690</td>\n",
       "      <td>58</td>\n",
       "    </tr>\n",
       "  </tbody>\n",
       "</table>\n",
       "</div>"
      ],
      "text/plain": [
       "                   win_percentage  damage_per_game  wards_per_game  \\\n",
       "team                                                                 \n",
       "100 Thieves             60.000000     70963.000000      132.220000   \n",
       "AHQ e-Sports Club       53.571429     63364.071429      127.142857   \n",
       "Afreeca Freecs          59.595960     65178.949495      157.616162   \n",
       "Alpha Esports           42.857143     55373.952381      107.000000   \n",
       "BBQ Olivers             39.655172     63566.172414      158.034483   \n",
       "\n",
       "                   gold_per_game  total_games  \n",
       "team                                           \n",
       "100 Thieves         68396.760000           50  \n",
       "AHQ e-Sports Club   62313.238095           84  \n",
       "Afreeca Freecs      66973.191919           99  \n",
       "Alpha Esports       55005.952381           21  \n",
       "BBQ Olivers         66391.120690           58  "
      ]
     },
     "execution_count": 14,
     "metadata": {},
     "output_type": "execute_result"
    }
   ],
   "source": [
    "final_df.head()"
   ]
  },
  {
   "cell_type": "code",
   "execution_count": 15,
   "metadata": {},
   "outputs": [
    {
     "data": {
      "text/plain": [
       "<matplotlib.collections.PathCollection at 0x1223397b8>"
      ]
     },
     "execution_count": 15,
     "metadata": {},
     "output_type": "execute_result"
    },
    {
     "data": {
      "image/png": "[encoded data removed]",
      "text/plain": [
       "<Figure size 432x288 with 1 Axes>"
      ]
     },
     "metadata": {
      "needs_background": "light"
     },
     "output_type": "display_data"
    }
   ],
   "source": [
    "y = final_df.win_percentage\n",
    "x_gold = final_df.gold_per_game\n",
    "\n",
    "plt.scatter(x_gold, y, marker=\"o\", facecolors=\"red\")"
   ]
  },
  {
   "cell_type": "code",
   "execution_count": 22,
   "metadata": {},
   "outputs": [
    {
     "data": {
      "image/png": "[encoded data removed]",
      "text/plain": [
       "<Figure size 432x288 with 1 Axes>"
      ]
     },
     "metadata": {
      "needs_background": "light"
     },
     "output_type": "display_data"
    }
   ],
   "source": [
    "from scipy.stats import linregress\n",
    "\n",
    "(slope, intercept, _, _, _)  = linregress(x_gold, y)\n",
    "\n",
    "fit = slope * x_gold + intercept\n",
    "\n",
    "fig, ax = plt.subplots()\n",
    "\n",
    "ax.plot(x_gold, y, linewidth=0, marker=\"o\")\n",
    "\n",
    "ax.plot(x_gold, fit)\n",
    "\n",
    "plt.show()"
   ]
  },
  {
   "cell_type": "code",
   "execution_count": 16,
   "metadata": {},
   "outputs": [
    {
     "data": {
      "text/plain": [
       "<matplotlib.collections.PathCollection at 0x12239a240>"
      ]
     },
     "execution_count": 16,
     "metadata": {},
     "output_type": "execute_result"
    },
    {
     "data": {
      "image/png": "[encoded data removed]",
      "text/plain": [
       "<Figure size 432x288 with 1 Axes>"
      ]
     },
     "metadata": {
      "needs_background": "light"
     },
     "output_type": "display_data"
    }
   ],
   "source": [
    "x_wards = final_df.wards_per_game\n",
    "\n",
    "plt.scatter(x_wards, y, marker=\"o\", facecolors=\"green\")"
   ]
  },
  {
   "cell_type": "code",
   "execution_count": 25,
   "metadata": {},
   "outputs": [
    {
     "data": {
      "image/png": "[encoded data removed]",
      "text/plain": [
       "<Figure size 432x288 with 1 Axes>"
      ]
     },
     "metadata": {
      "needs_background": "light"
     },
     "output_type": "display_data"
    }
   ],
   "source": [
    "(slope, intercept, _, _, _)  = linregress(x_wards, y)\n",
    "\n",
    "fit = slope * x_wards + intercept\n",
    "\n",
    "fig, ax = plt.subplots()\n",
    "\n",
    "ax.plot(x_wards, y, linewidth=0, marker=\"o\")\n",
    "\n",
    "ax.plot(x_wards, fit)\n",
    "\n",
    "plt.show()"
   ]
  },
  {
   "cell_type": "code",
   "execution_count": 17,
   "metadata": {},
   "outputs": [
    {
     "data": {
      "text/plain": [
       "<matplotlib.collections.PathCollection at 0x12258c470>"
      ]
     },
     "execution_count": 17,
     "metadata": {},
     "output_type": "execute_result"
    },
    {
     "data": {
      "image/png": "[encoded data removed]",
      "text/plain": [
       "<Figure size 432x288 with 1 Axes>"
      ]
     },
     "metadata": {
      "needs_background": "light"
     },
     "output_type": "display_data"
    }
   ],
   "source": [
    "x_damage = final_df.damage_per_game\n",
    "\n",
    "plt.scatter(x_damage, y, marker=\"o\")"
   ]
  },
  {
   "cell_type": "code",
   "execution_count": 23,
   "metadata": {},
   "outputs": [
    {
     "data": {
      "image/png": "[encoded data removed]",
      "text/plain": [
       "<Figure size 432x288 with 1 Axes>"
      ]
     },
     "metadata": {
      "needs_background": "light"
     },
     "output_type": "display_data"
    }
   ],
   "source": [
    "(slope, intercept, _, _, _)  = linregress(x_damage, y)\n",
    "\n",
    "fit = slope * x_damage + intercept\n",
    "\n",
    "fig, ax = plt.subplots()\n",
    "\n",
    "ax.plot(x_damage, y, linewidth=0, marker=\"o\")\n",
    "\n",
    "ax.plot(x_damage, fit)\n",
    "\n",
    "plt.show()"
   ]
  },
  {
   "cell_type": "code",
   "execution_count": null,
   "metadata": {},
   "outputs": [],
   "source": []
  }
 ],
 "metadata": {
  "kernelspec": {
   "display_name": "Python 3",
   "language": "python",
   "name": "python3"
  },
  "language_info": {
   "codemirror_mode": {
    "name": "ipython",
    "version": 3
   },
   "file_extension": ".py",
   "mimetype": "text/x-python",
   "name": "python",
   "nbconvert_exporter": "python",
   "pygments_lexer": "ipython3",
   "version": "3.7.3"
  }
 },
 "nbformat": 4,
 "nbformat_minor": 2
}
